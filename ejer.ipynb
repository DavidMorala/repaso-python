{
 "cells": [
  {
   "cell_type": "code",
   "execution_count": 1,
   "metadata": {},
   "outputs": [
    {
     "name": "stdout",
     "output_type": "stream",
     "text": [
      "La suma de los 2 numeros es: 15\n",
      "La multiplicacion de los 2 numeros es: 50\n"
     ]
    }
   ],
   "source": [
    "#Variables \n",
    "numero1 = 5\n",
    "numero2 = 10\n",
    "suma = numero1 + numero2\n",
    "\n",
    "#casing de int =< str\n",
    "print(\"La suma de los 2 numeros es: \" + str(suma))\n",
    "\n",
    "#print usando una expresion (La expresion se evalua a un valor)\n",
    "print(\"La multiplicacion de los 2 numeros es: \" + str(numero1 * numero2))"
   ]
  },
  {
   "cell_type": "code",
   "execution_count": 2,
   "metadata": {},
   "outputs": [
    {
     "name": "stdout",
     "output_type": "stream",
     "text": [
      "El resultado de la suma es: 4\n"
     ]
    }
   ],
   "source": [
    "#Entrada de datos\n",
    "a = input(\"Vamos a sumar 2 numeros. Introduce el primer numero\")\n",
    "b = input(\"Vamos a sumar 2 numeros. Introduce el segundo numero\")\n",
    "print(\"El resultado de la suma es: \" + str(int(a) + int(b)))\n"
   ]
  },
  {
   "cell_type": "code",
   "execution_count": 3,
   "metadata": {},
   "outputs": [
    {
     "name": "stdout",
     "output_type": "stream",
     "text": [
      "El numero1 es menor\n"
     ]
    }
   ],
   "source": [
    "#control de fujo (if)\n",
    "numero1 = 5\n",
    "numero2 = 10\n",
    "if numero1 < numero2:\n",
    "    print(\"El numero1 es menor\")\n",
    "else:\n",
    "    print(\"El numero2 es menor\")\n"
   ]
  },
  {
   "cell_type": "code",
   "execution_count": 4,
   "metadata": {},
   "outputs": [
    {
     "name": "stdout",
     "output_type": "stream",
     "text": [
      "La lista es: [1, 2, 3, 4, 5]\n",
      "El doble de cada elemnto de la lista es: 2\n",
      "El doble de cada elemnto de la lista es: 4\n",
      "El doble de cada elemnto de la lista es: 6\n",
      "El doble de cada elemnto de la lista es: 8\n",
      "El doble de cada elemnto de la lista es: 10\n"
     ]
    }
   ],
   "source": [
    "#control de flujo (for)\n",
    "mi_lista =[1, 2, 3, 4, 5]\n",
    "print(\"La lista es: \" + str(mi_lista))\n",
    "for elemento in mi_lista:\n",
    "    print(\"El doble de cada elemnto de la lista es: \" + str(elemento*2))\n"
   ]
  },
  {
   "cell_type": "code",
   "execution_count": 7,
   "metadata": {},
   "outputs": [
    {
     "name": "stdout",
     "output_type": "stream",
     "text": [
      "sum:  110\n"
     ]
    }
   ],
   "source": [
    "#control de flujo (while)\n",
    "\n",
    "i = 1\n",
    "s=0\n",
    "while i <= 10:\n",
    "    s = s + i*2\n",
    "    i = i + 1\n",
    "print(\"sum: \", s)\n"
   ]
  },
  {
   "cell_type": "code",
   "execution_count": 27,
   "metadata": {},
   "outputs": [
    {
     "name": "stdout",
     "output_type": "stream",
     "text": [
      "[1, 2, 3, 7, 10]\n",
      "\n",
      "['audi', 'ford', 'citroen', 'ferrari', 'bmw']\n",
      "\n",
      "El primer elemento es: audi\n",
      "El ultimo elemento es: bmw\n",
      "\n",
      "La marca número 0 es => audi\n",
      "La marca número 1 es => ford\n",
      "La marca número 2 es => citroen\n",
      "La marca número 3 es => ferrari\n",
      "La marca número 4 es => bmw\n",
      "\n",
      "['telefonica', 1500, 37.5, True]\n"
     ]
    }
   ],
   "source": [
    "#listas \n",
    "\n",
    "lista1 = [1,2,3,7,10]\n",
    "print(lista1)\n",
    "print()\n",
    "\n",
    "marcas_coches = [\"audi\", \"ford\", \"citroen\", \"ferrari\", \"bmw\"]\n",
    "print(marcas_coches)\n",
    "print()\n",
    "\n",
    "print(\"El primer elemento es: \" + marcas_coches[0])\n",
    "print(\"El ultimo elemento es: \" + marcas_coches[-1])\n",
    "print()\n",
    "\n",
    "#iterar una lista\n",
    "\n",
    "for indice in range(len(marcas_coches)):\n",
    "    print(\"La marca número \" + str(indice) + \" es => \" + marcas_coches[indice])\n",
    "\n",
    "#Lista con diferentes tipos\n",
    "print()\n",
    "caracteristicas_empleo = [\"telefonica\", 1500, 37.5, True]\n",
    "print(caracteristicas_empleo)"
   ]
  },
  {
   "cell_type": "code",
   "execution_count": null,
   "metadata": {},
   "outputs": [],
   "source": [
    "#tuplas\n",
    "\n",
    "lista1 = [1,2,3,7,10]\n",
    "print(lista1)\n",
    "print()\n",
    "\n",
    "marcas_coches = [\"audi\", \"ford\", \"citroen\", \"ferrari\", \"bmw\"]\n",
    "print(marcas_coches)\n",
    "print()\n",
    "\n",
    "print(\"El primer elemento es: \" + marcas_coches[0])\n",
    "print(\"El ultimo elemento es: \" + marcas_coches[-1])\n",
    "print()"
   ]
  }
 ],
 "metadata": {
  "kernelspec": {
   "display_name": "Python 3",
   "language": "python",
   "name": "python3"
  },
  "language_info": {
   "codemirror_mode": {
    "name": "ipython",
    "version": 3
   },
   "file_extension": ".py",
   "mimetype": "text/x-python",
   "name": "python",
   "nbconvert_exporter": "python",
   "pygments_lexer": "ipython3",
   "version": "3.12.1"
  }
 },
 "nbformat": 4,
 "nbformat_minor": 2
}
